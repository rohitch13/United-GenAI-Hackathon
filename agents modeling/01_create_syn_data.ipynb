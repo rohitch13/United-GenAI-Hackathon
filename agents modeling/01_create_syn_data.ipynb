{
 "cells": [
  {
   "cell_type": "markdown",
   "id": "0b8bcd05",
   "metadata": {},
   "source": [
    "# Imports"
   ]
  },
  {
   "cell_type": "code",
   "execution_count": null,
   "id": "04294842",
   "metadata": {},
   "outputs": [],
   "source": [
    "# %pip install -q google-generativeai==0.8.5 vertexai==1.71.1 google-cloud-aiplatform==1.71.1 fpdf==1.7.2"
   ]
  },
  {
   "cell_type": "code",
   "execution_count": 46,
   "id": "648d08d4",
   "metadata": {},
   "outputs": [],
   "source": [
    "import google.generativeai as genai\n",
    "import json\n",
    "from fpdf import FPDF\n",
    "import re\n",
    "import pandas as pd\n",
    "import random\n",
    "from datetime import datetime, timedelta\n",
    "from io import StringIO\n",
    "\n",
    "with open(\"config.json\", \"r\") as file:\n",
    "    config = json.load(file)"
   ]
  },
  {
   "cell_type": "markdown",
   "id": "692a9cd6",
   "metadata": {},
   "source": [
    "# Testing Gemini"
   ]
  },
  {
   "cell_type": "code",
   "execution_count": 2,
   "id": "dd5103f8",
   "metadata": {},
   "outputs": [
    {
     "name": "stdout",
     "output_type": "stream",
     "text": [
      "Gemini: Hello! How can I help you today?\n",
      "\n"
     ]
    }
   ],
   "source": [
    "api_key = config['api_key']\n",
    "genai.configure(api_key=api_key)\n",
    "model = genai.GenerativeModel(\"gemini-2.0-flash-001\")\n",
    "chat = model.start_chat()\n",
    "response = chat.send_message(\"Hello\")\n",
    "print(\"Gemini:\", response.text)"
   ]
  },
  {
   "cell_type": "markdown",
   "id": "0d428e63",
   "metadata": {},
   "source": [
    "# Interior Maintenance Manual & Forms"
   ]
  },
  {
   "cell_type": "code",
   "execution_count": 53,
   "id": "72eae638",
   "metadata": {},
   "outputs": [],
   "source": [
    "manual_prompt = \"\"\"\n",
    "You are a technical documentation expert for a major airline. \n",
    "Generate a detailed and realistic interior inspection manual for commercial aircraft which also contains Form ID for each below section to that need to be filled in case of damage to the particular property. \n",
    "The manual should contain sections like:\n",
    "\n",
    "1. Seat Inspection Guidelines\n",
    "2. Overhead Bin and Storage Check\n",
    "3. Cabin Cleanliness and Hygiene\n",
    "4. Emergency Equipment Accessibility\n",
    "5. In-Flight Entertainment Systems\n",
    "6. Lighting and Ambient Conditions\n",
    "7. Lavatory Maintenance\n",
    "\n",
    "Each section should have bullet points or procedures with numbered steps, referencing standard airline practices. Make it suitable for internal airline staff training and inspections.\n",
    "\n",
    "Output format:\n",
    "# Aircraft Interior Inspection Manual\n",
    "## Section 1: Seat Inspection Guidelines\n",
    "...\n",
    "\"\"\""
   ]
  },
  {
   "cell_type": "markdown",
   "id": "3e97eb66",
   "metadata": {},
   "source": [
    "## Manuals"
   ]
  },
  {
   "cell_type": "code",
   "execution_count": 54,
   "id": "888fbf47",
   "metadata": {},
   "outputs": [
    {
     "name": "stdout",
     "output_type": "stream",
     "text": [
      "Manual:\n",
      " # Aircraft Interior Inspection Manual\n",
      "\n",
      "**Document Version:** 3.0\n",
      "**Date Issued:** October 27, 2023\n",
      "**Applicability:** All Aircraft Types (Specific Aircraft Type Variants May Have Additional Requirements – Refer to Aircraft Maintenance Manual (AMM) Chapter 25)\n",
      "\n",
      "**Purpose:** This manual provides guidelines for conducting routine interior inspections of commercial aircraft to ensure passenger safety, comfort, and adherence to airline standards. Inspectors should use this manual in conjunction with \n"
     ]
    }
   ],
   "source": [
    "response = chat.send_message(manual_prompt)\n",
    "print(\"Manual:\\n\", response.text[:500])"
   ]
  },
  {
   "cell_type": "code",
   "execution_count": 55,
   "id": "70be859b",
   "metadata": {},
   "outputs": [],
   "source": [
    "manual_text_clean = response.text\n",
    "manual_text_clean = re.sub(r'[–—]', '-', manual_text_clean)  \n",
    "manual_text_clean = re.sub(r'[“”]', '\"', manual_text_clean)  \n",
    "manual_text_clean = re.sub(r\"[‘’]\", \"'\", manual_text_clean)  \n",
    "manual_text_clean = manual_text_clean.encode(\"ascii\", \"ignore\").decode()  "
   ]
  },
  {
   "cell_type": "code",
   "execution_count": 56,
   "id": "2f438f94",
   "metadata": {},
   "outputs": [
    {
     "data": {
      "text/plain": [
       "''"
      ]
     },
     "execution_count": 56,
     "metadata": {},
     "output_type": "execute_result"
    }
   ],
   "source": [
    "class EnhancedPDF(FPDF):\n",
    "    def header(self):\n",
    "        self.set_font(\"Arial\", \"B\", 16)\n",
    "        self.cell(0, 10, \"Aircraft Interior Inspection Manual\", ln=True, align=\"C\")\n",
    "        self.ln(5)\n",
    "\n",
    "    def chapter_body(self, body):\n",
    "        self.set_font(\"Arial\", \"\", 11)\n",
    "        lines = body.split('\\n')\n",
    "        for line in lines:\n",
    "            if line.startswith(\"# \"):\n",
    "                self.set_font(\"Arial\", \"B\", 14)\n",
    "                self.multi_cell(0, 10, line[2:])\n",
    "                self.set_font(\"Arial\", \"\", 11)\n",
    "\n",
    "            elif line.startswith(\"## \"):\n",
    "                self.set_font(\"Arial\", \"B\", 13)\n",
    "                self.multi_cell(0, 10, line[3:])\n",
    "                self.set_font(\"Arial\", \"\", 11)\n",
    "        \n",
    "            else:\n",
    "                segments = re.split(r\"(\\*\\*.*?\\*\\*)\", line)\n",
    "                for segment in segments:\n",
    "                    if segment.startswith(\"**\") and segment.endswith(\"**\"):\n",
    "                        self.set_font(\"Arial\", \"B\", 11)\n",
    "                        self.write(10, segment[2:-2])\n",
    "                        self.set_font(\"Arial\", \"\", 11)\n",
    "                    else:\n",
    "                        self.write(10, segment)\n",
    "                self.ln(10)\n",
    "\n",
    "\n",
    "pdf = EnhancedPDF()\n",
    "pdf.add_page()\n",
    "pdf.chapter_body(manual_text_clean)\n",
    "\n",
    "pdf_path = \"aircraft_interior_inspection_manual.pdf\"\n",
    "pdf.output(pdf_path)"
   ]
  },
  {
   "cell_type": "markdown",
   "id": "0dad97c4",
   "metadata": {},
   "source": [
    "## Forms"
   ]
  },
  {
   "cell_type": "code",
   "execution_count": 57,
   "id": "fc03e1c1",
   "metadata": {},
   "outputs": [],
   "source": [
    "form_prompt = f\"\"\"\n",
    "You are a compliance officer creating issue reporting forms for aircraft interior inspections.\n",
    "Create 5 sample filled-out synthetic reports for each section present in the given manual. At least 3 of each section reports should be those which are something visually inspectable. Each report should include:\n",
    "\n",
    "- Form ID (taken from the manual below)\n",
    "- Inspector Name\n",
    "- Inspector ID\n",
    "- Date\n",
    "- Aircraft ID\n",
    "- Inspection Zone (either Cabin or Lavatory)\n",
    "- Issue Type (e.g., seat damage, dirty tray, inoperative IFE)\n",
    "- Issue Description\n",
    "- Severity (Low, Medium, High)\n",
    "- Action Taken\n",
    "- Department Contacted\n",
    "- Status (Open, Resolved, Escalated)\n",
    "\n",
    "The issues should sound realistic and align with typical cabin conditions. Make sure to vary the content.\n",
    "\n",
    "Manual: {manual_text_clean}\n",
    "\n",
    "Format it as structured JSON.\n",
    "\"\"\""
   ]
  },
  {
   "cell_type": "code",
   "execution_count": 58,
   "id": "4acb265f",
   "metadata": {},
   "outputs": [
    {
     "name": "stdout",
     "output_type": "stream",
     "text": [
      "Forms:\n",
      " ```json\n",
      "[\n",
      "  {\n",
      "    \"Section\": \"Seat Inspection Guidelines\",\n",
      "    \"Reports\": [\n",
      "      {\n",
      "        \"Form ID\": \"Form-SIG\",\n",
      "        \"Inspector Name\": \"Isabelle Dubois\",\n",
      "        \"Inspector ID\": \"ID7492\",\n",
      "        \"Date\": \"2023-10-27\",\n",
      "        \"Aircraft ID\": \"A320-XYZ123\",\n",
      "        \"Inspection Zone\": \"Cabin\",\n",
      "        \"Issue Type\": \"Upholstery Tear\",\n",
      "        \"Issue Description\": \"Seat 32A has a 4-inch tear in the seat cushion upholstery, exposing foam.\",\n",
      "        \"Severity\": \"Medium\",\n",
      "        \"Action Taken\": \"\n"
     ]
    }
   ],
   "source": [
    "response = chat.send_message(form_prompt)\n",
    "print(\"Forms:\\n\", response.text[:500])\n"
   ]
  },
  {
   "cell_type": "code",
   "execution_count": 62,
   "id": "8dec1d10",
   "metadata": {},
   "outputs": [],
   "source": [
    "# print(response.text[8:-4])"
   ]
  },
  {
   "cell_type": "code",
   "execution_count": 61,
   "id": "962ce125",
   "metadata": {},
   "outputs": [],
   "source": [
    "try:\n",
    "    forms_data = json.loads(response.text[8:-4])\n",
    "    with open(\"synthetic_interior_forms.json\", \"w\") as f:\n",
    "        json.dump(forms_data, f, indent=4)\n",
    "except json.JSONDecodeError:\n",
    "    print(\"Response is not valid JSON. Please format output manually.\")\n"
   ]
  },
  {
   "cell_type": "markdown",
   "id": "02b1331d",
   "metadata": {},
   "source": [
    "## Sample data for Firebase"
   ]
  },
  {
   "cell_type": "code",
   "execution_count": 44,
   "id": "4d9bbe8e",
   "metadata": {},
   "outputs": [],
   "source": [
    "data_prompt = \"\"\"You are an airline operations assistant.\n",
    "\n",
    "Generate synthetic data in CSV format with 50 rows for aircraft inspection assignments. Each row should include the following columns:\n",
    "\n",
    "- Inspector Name (e.g., John Davis, Priya Sharma)\n",
    "- Aircraft ID (e.g., UA328, DL947, AA112)\n",
    "- Date Assigned (past 90 days only, in YYYY-MM-DD format)\n",
    "- Shift (Morning, Evening, Night)\n",
    "- Inspection Zone (Cabin, Lavatory, Cargo Hold, Cockpit, Wings)\n",
    "\n",
    "Ensure:\n",
    "- Names are international and realistic.\n",
    "- Aircraft IDs are varied and reflect different airlines.\n",
    "- Dates are spread over the last 90 days.\n",
    "- Distribute inspection zones and shifts randomly.\n",
    "\n",
    "Output in **CSV format** with a header row and use only plain text (no code blocks).\"\"\"\n"
   ]
  },
  {
   "cell_type": "code",
   "execution_count": 45,
   "id": "07c3996b",
   "metadata": {},
   "outputs": [
    {
     "name": "stdout",
     "output_type": "stream",
     "text": [
      "Forms:\n",
      " Inspector Name,Aircraft ID,Date Assigned,Shift,Inspection Zone\n",
      "John Davis,UA328,2023-08-01,Morning,Cabin\n",
      "Priya Sharma,DL947,2023-08-05,Evening,Lavatory\n",
      "Kenji Tanaka,AA112,2023-08-10,Night,Cargo Hold\n",
      "Aisha Khan,BA245,2023-08-15,Morning,Cockpit\n",
      "Michael O'Connell,LH678,2023-08-20,Evening,Wings\n",
      "Sofia Rossi,AF890,2023-08-25,Night,Cabin\n",
      "David Lee,EK123,2023-08-30,Morning,Lavatory\n",
      "Elena Petrova,QR456,2023-09-01,Evening,Cargo Hold\n",
      "Omar Hassan,SQ789,2023-09-05,Night,Cockpit\n",
      "Li Wei,CX012,2023-09-10,Mornin\n"
     ]
    }
   ],
   "source": [
    "response_csv = chat.send_message(data_prompt)\n",
    "print(\"Forms:\\n\", response_csv.text[:500])\n"
   ]
  },
  {
   "cell_type": "code",
   "execution_count": 48,
   "id": "34ec8f4a",
   "metadata": {},
   "outputs": [],
   "source": [
    "df_from_gemini = pd.read_csv(StringIO(response_csv.text))\n",
    "\n",
    "csv_gemini_path = \"aircraft_inspection_assignments.csv\"\n",
    "df_from_gemini.to_csv(csv_gemini_path, index=False)"
   ]
  },
  {
   "cell_type": "code",
   "execution_count": null,
   "id": "3575dde6",
   "metadata": {},
   "outputs": [],
   "source": []
  },
  {
   "cell_type": "code",
   "execution_count": null,
   "id": "438773a9",
   "metadata": {},
   "outputs": [],
   "source": []
  },
  {
   "cell_type": "code",
   "execution_count": null,
   "id": "d0f8f99c",
   "metadata": {},
   "outputs": [],
   "source": []
  }
 ],
 "metadata": {
  "kernelspec": {
   "display_name": "base",
   "language": "python",
   "name": "python3"
  },
  "language_info": {
   "codemirror_mode": {
    "name": "ipython",
    "version": 3
   },
   "file_extension": ".py",
   "mimetype": "text/x-python",
   "name": "python",
   "nbconvert_exporter": "python",
   "pygments_lexer": "ipython3",
   "version": "3.12.3"
  }
 },
 "nbformat": 4,
 "nbformat_minor": 5
}
